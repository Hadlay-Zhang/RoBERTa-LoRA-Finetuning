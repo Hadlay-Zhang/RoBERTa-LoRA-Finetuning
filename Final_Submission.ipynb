{
 "cells": [
  {
   "cell_type": "markdown",
   "id": "977e8058",
   "metadata": {},
   "source": [
    "# Final Submission Version"
   ]
  },
  {
   "cell_type": "code",
   "execution_count": null,
   "id": "fb68d27a",
   "metadata": {},
   "outputs": [],
   "source": [
    "# Imports and Setup\n",
    "import os\n",
    "import sys\n",
    "from argparse import Namespace\n",
    "import torch\n",
    "\n",
    "import train\n",
    "import utils\n",
    "import config\n",
    "\n",
    "print(f\"Torch version: {torch.__version__}\")\n",
    "print(f\"CUDA available: {torch.cuda.is_available()}\")\n",
    "if torch.cuda.is_available():\n",
    "    print(f\"CUDA version: {torch.version.cuda}\")\n",
    "    print(f\"Device name: {torch.cuda.get_device_name(0)}\")\n",
    "print(f\"Using device: {config.DEVICE}\")"
   ]
  },
  {
   "cell_type": "markdown",
   "id": "bfb966ff",
   "metadata": {},
   "source": [
    "## 1. Comparison of different adaptors"
   ]
  },
  {
   "cell_type": "markdown",
   "id": "637dd904",
   "metadata": {},
   "source": [
    "### 1.1. LoRA"
   ]
  },
  {
   "cell_type": "code",
   "execution_count": null,
   "id": "eb82cf7e",
   "metadata": {},
   "outputs": [],
   "source": [
    "from argparse import Namespace\n",
    "import os\n",
    "\n",
    "args_lora = Namespace(\n",
    "    output_dir=\"results_lora_qv_r8_a16_lr2e-4\",\n",
    "    seed=42,\n",
    "    peft_method=\"lora\",\n",
    "    target_modules=[\"query\", \"value\"],\n",
    "    lora_r=8,\n",
    "    lora_alpha=16,\n",
    "    lora_dropout=0.1,\n",
    "    learning_rate=2e-4,\n",
    "    num_train_epochs=3,\n",
    "    train_batch_size=128,\n",
    "    eval_batch_size=128,\n",
    "    optimizer=\"adamw_torch\"\n",
    ")\n",
    "\n",
    "os.makedirs(args_lora.output_dir, exist_ok=True)\n",
    "\n",
    "print(\"Parameters:\")\n",
    "for k, v in vars(args_lora).items():\n",
    "    print(f\"  {k}: {v}\")\n",
    "\n",
    "print(\"=== START TRAINING ===\")\n",
    "final_accuracy = train.main_train(args_lora)\n",
    "print(\"=== TRAINING FINISHED ===\")\n"
   ]
  },
  {
   "cell_type": "markdown",
   "id": "17545963",
   "metadata": {},
   "source": [
    "### 1.2. LoHa"
   ]
  },
  {
   "cell_type": "code",
   "execution_count": null,
   "id": "65097392",
   "metadata": {},
   "outputs": [],
   "source": [
    "args_loha = Namespace(\n",
    "    output_dir=\"results_loha_qkv_r4_a8_lr2e-4\",\n",
    "    seed=42,\n",
    "    peft_method=\"loha\",\n",
    "    target_modules=[\"query\", \"value\", \"key\"],\n",
    "    lora_r=4,\n",
    "    lora_alpha=8,\n",
    "    lora_dropout=0.1,\n",
    "    learning_rate=2e-4,\n",
    "    num_train_epochs=3,\n",
    "    train_batch_size=128,\n",
    "    eval_batch_size=128,\n",
    "    optimizer=\"adamw_torch\"\n",
    ")\n",
    "\n",
    "os.makedirs(args_loha.output_dir, exist_ok=True)\n",
    "\n",
    "print(\"Parameters:\")\n",
    "for k, v in vars(args_loha).items():\n",
    "    print(f\"  {k}: {v}\")\n",
    "\n",
    "print(\"=== START TRAINING ===\")\n",
    "final_accuracy = train.main_train(args_loha)\n",
    "print(\"=== TRAINING FINISHED ===\")\n"
   ]
  },
  {
   "cell_type": "markdown",
   "id": "e5ebb932",
   "metadata": {},
   "source": [
    "### 1.3. LoKr"
   ]
  },
  {
   "cell_type": "code",
   "execution_count": null,
   "id": "58364615",
   "metadata": {},
   "outputs": [],
   "source": [
    "args_lokr = Namespace(\n",
    "    output_dir=\"results_lokr_qkv_r8_a24_lr2e-4\",\n",
    "    seed=42,\n",
    "    peft_method=\"lokr\",\n",
    "    target_modules=[\"query\", \"key\", \"value\"],\n",
    "    lora_r=8,\n",
    "    lora_alpha=24,\n",
    "    lora_dropout=0.1,\n",
    "    learning_rate=2e-4,\n",
    "    num_train_epochs=3,\n",
    "    train_batch_size=128,\n",
    "    eval_batch_size=128,\n",
    "    optimizer=\"adamw_torch\"\n",
    ")\n",
    "\n",
    "os.makedirs(args_lokr.output_dir, exist_ok=True)\n",
    "\n",
    "print(\"Parameters:\")\n",
    "for k, v in vars(args_lokr).items():\n",
    "    print(f\"  {k}: {v}\")\n",
    "\n",
    "print(\"=== START TRAINING ===\")\n",
    "final_accuracy = train.main_train(args_lokr)\n",
    "print(\"=== TRAINING FINISHED ===\")\n"
   ]
  },
  {
   "cell_type": "markdown",
   "id": "4812cd79",
   "metadata": {},
   "source": [
    "### 1.4. AdaLoRA"
   ]
  },
  {
   "cell_type": "code",
   "execution_count": null,
   "id": "a5ac5223",
   "metadata": {},
   "outputs": [],
   "source": [
    "args_adalora = Namespace(\n",
    "    output_dir=\"results_adalora_qvd_r4-6_a2_lr2e-4\",\n",
    "    seed=42,\n",
    "    peft_method=\"adalora\",\n",
    "    target_modules=[\"query\", \"value\", \"attention.output.dense\"],\n",
    "    lora_r=4,\n",
    "    lora_alpha=2,\n",
    "    lora_dropout=0.1,\n",
    "    adalora_init_r=6,\n",
    "    adalora_tinit=0,\n",
    "    adalora_tfinal=0,\n",
    "    adalora_deltaT=1,\n",
    "    adalora_beta1=0.85,\n",
    "    adalora_beta2=0.85,\n",
    "    learning_rate=2e-4,\n",
    "    num_train_epochs=1,\n",
    "    train_batch_size=128,\n",
    "    eval_batch_size=128,\n",
    "    optimizer=\"adamw_torch\"\n",
    ")\n",
    "\n",
    "os.makedirs(args_adalora.output_dir, exist_ok=True)\n",
    "\n",
    "print(\"Parameters:\")\n",
    "for k, v in vars(args_adalora).items():\n",
    "    print(f\"  {k}: {v}\")\n",
    "\n",
    "# launch training\n",
    "print(\"=== START TRAINING ===\")\n",
    "final_accuracy = train.main_train(args_adalora)\n",
    "print(\"=== TRAINING FINISHED ===\")"
   ]
  },
  {
   "cell_type": "markdown",
   "id": "a94b1c4f",
   "metadata": {},
   "source": [
    "## 2. Impact of Rank and Alpha"
   ]
  },
  {
   "cell_type": "markdown",
   "id": "b511e736",
   "metadata": {},
   "source": [
    "### 2.1. "
   ]
  },
  {
   "cell_type": "code",
   "execution_count": null,
   "id": "5d99c94f",
   "metadata": {},
   "outputs": [],
   "source": [
    "for alpha in [4, 8, 16, 32]:\n",
    "    args = Namespace(\n",
    "        output_dir=f\"results_lora_qv_r8_a{alpha}_lr2e-4\",\n",
    "        seed=42,\n",
    "        peft_method=\"lora\",\n",
    "        target_modules=[\"query\", \"value\"],\n",
    "        lora_r=8,\n",
    "        lora_alpha=alpha,\n",
    "        lora_dropout=0.1,\n",
    "        learning_rate=2e-4,\n",
    "        num_train_epochs=3,\n",
    "        train_batch_size=128,\n",
    "        eval_batch_size=128,\n",
    "        optimizer=\"adamw_torch\"\n",
    "    )\n",
    "    os.makedirs(args.output_dir, exist_ok=True)\n",
    "    print(\"Parameters:\", vars(args))\n",
    "    print(f\"=== START TRAINING r=8 alpha={alpha} ===\")\n",
    "    final_accuracy = train.main_train(args)\n",
    "    print(f\"=== TRAINING FINISHED r=8 alpha={alpha} ===\")"
   ]
  },
  {
   "cell_type": "markdown",
   "id": "4d45b45e",
   "metadata": {},
   "source": [
    "### 2.2. "
   ]
  },
  {
   "cell_type": "code",
   "execution_count": null,
   "id": "26c01394",
   "metadata": {},
   "outputs": [],
   "source": [
    "for r in [2, 4, 8]:\n",
    "    args = Namespace(\n",
    "        output_dir=f\"results_lora_qv_r{r}_a16_lr2e-4\",\n",
    "        seed=42,\n",
    "        peft_method=\"lora\",\n",
    "        target_modules=[\"query\", \"value\"],\n",
    "        lora_r=r,\n",
    "        lora_alpha=16,\n",
    "        lora_dropout=0.1,\n",
    "        learning_rate=2e-4,\n",
    "        num_train_epochs=3,\n",
    "        train_batch_size=128,\n",
    "        eval_batch_size=128,\n",
    "        optimizer=\"adamw_torch\"\n",
    "    )\n",
    "    os.makedirs(args.output_dir, exist_ok=True)\n",
    "    print(\"Parameters:\", vars(args))\n",
    "    print(f\"=== START TRAINING r={r} alpha=16 ===\")\n",
    "    final_accuracy = train.main_train(args)\n",
    "    print(f\"=== TRAINING FINISHED r={r} alpha=16 ===\")"
   ]
  }
 ],
 "metadata": {
  "kernelspec": {
   "display_name": "dl",
   "language": "python",
   "name": "python3"
  },
  "language_info": {
   "codemirror_mode": {
    "name": "ipython",
    "version": 3
   },
   "file_extension": ".py",
   "mimetype": "text/x-python",
   "name": "python",
   "nbconvert_exporter": "python",
   "pygments_lexer": "ipython3",
   "version": "3.11.10"
  }
 },
 "nbformat": 4,
 "nbformat_minor": 5
}
