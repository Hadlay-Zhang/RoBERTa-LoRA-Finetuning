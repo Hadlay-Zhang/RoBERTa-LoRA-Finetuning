{
 "cells": [
  {
   "cell_type": "markdown",
   "id": "977e8058",
   "metadata": {},
   "source": [
    "# Final Submission Version"
   ]
  },
  {
   "cell_type": "code",
   "execution_count": null,
   "id": "fb68d27a",
   "metadata": {},
   "outputs": [],
   "source": [
    "# Imports and Setup\n",
    "import os\n",
    "import sys\n",
    "from argparse import Namespace\n",
    "import torch\n",
    "\n",
    "import train\n",
    "import utils\n",
    "import config\n",
    "\n",
    "print(f\"Torch version: {torch.__version__}\")\n",
    "print(f\"CUDA available: {torch.cuda.is_available()}\")\n",
    "if torch.cuda.is_available():\n",
    "    print(f\"CUDA version: {torch.version.cuda}\")\n",
    "    print(f\"Device name: {torch.cuda.get_device_name(0)}\")\n",
    "print(f\"Using device: {config.DEVICE}\")"
   ]
  },
  {
   "cell_type": "markdown",
   "id": "bfb966ff",
   "metadata": {},
   "source": [
    "## 1. Single Method"
   ]
  },
  {
   "cell_type": "markdown",
   "id": "637dd904",
   "metadata": {},
   "source": [
    "### 1.1. LoRA"
   ]
  },
  {
   "cell_type": "code",
   "execution_count": null,
   "id": "eb82cf7e",
   "metadata": {},
   "outputs": [],
   "source": []
  },
  {
   "cell_type": "markdown",
   "id": "17545963",
   "metadata": {},
   "source": [
    "### 1.2. LoHa"
   ]
  },
  {
   "cell_type": "code",
   "execution_count": null,
   "id": "43bcb40a",
   "metadata": {},
   "outputs": [],
   "source": []
  },
  {
   "cell_type": "markdown",
   "id": "e5ebb932",
   "metadata": {},
   "source": [
    "### 1.3. LoKr"
   ]
  },
  {
   "cell_type": "code",
   "execution_count": null,
   "id": "58364615",
   "metadata": {},
   "outputs": [],
   "source": []
  },
  {
   "cell_type": "markdown",
   "id": "4812cd79",
   "metadata": {},
   "source": [
    "### 1.4. AdaLoRA"
   ]
  },
  {
   "cell_type": "code",
   "execution_count": null,
   "id": "a5ac5223",
   "metadata": {},
   "outputs": [],
   "source": [
    "from argparse import Namespace\n",
    "\n",
    "args = Namespace(\n",
    "    output_dir=\"results_adalora_qvd_r4-6_a2_lr2e-4\",\n",
    "    seed=42,\n",
    "    peft_method=\"adalora\",\n",
    "    target_modules=[\"query\", \"value\", \"attention.output.dense\"],\n",
    "    lora_r=4,\n",
    "    lora_alpha=2,\n",
    "    lora_dropout=0.1,\n",
    "    adalora_init_r=6,\n",
    "    adalora_tinit=0,\n",
    "    adalora_tfinal=0,\n",
    "    adalora_deltaT=1,\n",
    "    adalora_beta1=0.85,\n",
    "    adalora_beta2=0.85,\n",
    "    learning_rate=2e-4,\n",
    "    num_train_epochs=3,\n",
    "    train_batch_size=128,\n",
    "    eval_batch_size=128,\n",
    "    optimizer=\"adamw_torch\"\n",
    ")\n",
    "\n",
    "os.makedirs(args.output_dir, exist_ok=True)\n",
    "\n",
    "print(\"Parameters:\")\n",
    "for k, v in vars(args).items():\n",
    "    print(f\"  {k}: {v}\")\n"
   ]
  },
  {
   "cell_type": "code",
   "execution_count": null,
   "id": "06f410ca",
   "metadata": {},
   "outputs": [],
   "source": [
    "# launch training\n",
    "print(\"=== START TRAINING ===\")\n",
    "final_accuracy = train.main_train(args)\n",
    "print(\"=== TRAINING FINISHED ===\")"
   ]
  }
 ],
 "metadata": {
  "kernelspec": {
   "display_name": "dl",
   "language": "python",
   "name": "python3"
  },
  "language_info": {
   "codemirror_mode": {
    "name": "ipython",
    "version": 3
   },
   "file_extension": ".py",
   "mimetype": "text/x-python",
   "name": "python",
   "nbconvert_exporter": "python",
   "pygments_lexer": "ipython3",
   "version": "3.11.10"
  }
 },
 "nbformat": 4,
 "nbformat_minor": 5
}
